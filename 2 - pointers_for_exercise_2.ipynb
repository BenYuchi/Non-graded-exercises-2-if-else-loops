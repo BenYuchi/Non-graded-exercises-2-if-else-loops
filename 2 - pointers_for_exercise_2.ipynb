{
 "cells": [
  {
   "cell_type": "markdown",
   "metadata": {},
   "source": [
    "enumerate() method: "
   ]
  },
  {
   "cell_type": "code",
   "execution_count": 1,
   "metadata": {},
   "outputs": [
    {
     "name": "stdout",
     "output_type": "stream",
     "text": [
      "Index 0: Letter H\n",
      "Index 1: Letter o\n",
      "Index 2: Letter w\n",
      "Index 3: Letter l\n",
      "Index 4: Letter '\n",
      "Index 5: Letter s\n",
      "Index 6: Letter  \n",
      "Index 7: Letter M\n",
      "Index 8: Letter o\n",
      "Index 9: Letter v\n",
      "Index 10: Letter i\n",
      "Index 11: Letter n\n",
      "Index 12: Letter g\n",
      "Index 13: Letter  \n",
      "Index 14: Letter C\n",
      "Index 15: Letter a\n",
      "Index 16: Letter s\n",
      "Index 17: Letter t\n",
      "Index 18: Letter l\n",
      "Index 19: Letter e\n"
     ]
    }
   ],
   "source": [
    "str1 = \"Howl's Moving Castle\"\n",
    "\n",
    "for index, letter in enumerate(str1):\n",
    "    print(f\"Index {index}: Letter {letter}\")\n"
   ]
  },
  {
   "cell_type": "markdown",
   "metadata": {},
   "source": [
    "join() method:"
   ]
  },
  {
   "cell_type": "code",
   "execution_count": 2,
   "metadata": {},
   "outputs": [
    {
     "name": "stdout",
     "output_type": "stream",
     "text": [
      "Baa baa black sheep\n"
     ]
    }
   ],
   "source": [
    "\n",
    "some_list = ['Baa', 'baa', 'black', 'sheep']\n",
    "sentence = ' '.join(some_list)\n",
    "print(sentence)\n"
   ]
  },
  {
   "cell_type": "markdown",
   "metadata": {},
   "source": [
    "random() method:"
   ]
  },
  {
   "cell_type": "code",
   "execution_count": 5,
   "metadata": {},
   "outputs": [
    {
     "name": "stdout",
     "output_type": "stream",
     "text": [
      "sheep\n"
     ]
    }
   ],
   "source": [
    "\n",
    "\n",
    "some_list = ['Baa', 'baa', 'black', 'sheep']\n",
    "import random\n",
    "\n",
    "some_list = ['Baa', 'baa', 'black', 'sheep']\n",
    "random_word = random.choice(some_list)\n",
    "print(random_word)\n"
   ]
  }
 ],
 "metadata": {
  "kernelspec": {
   "display_name": "Python 3",
   "language": "python",
   "name": "python3"
  },
  "language_info": {
   "codemirror_mode": {
    "name": "ipython",
    "version": 3
   },
   "file_extension": ".py",
   "mimetype": "text/x-python",
   "name": "python",
   "nbconvert_exporter": "python",
   "pygments_lexer": "ipython3",
   "version": "3.11.9"
  }
 },
 "nbformat": 4,
 "nbformat_minor": 2
}
